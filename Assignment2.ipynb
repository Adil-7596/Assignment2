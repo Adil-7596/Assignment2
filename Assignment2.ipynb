{
  "nbformat": 4,
  "nbformat_minor": 0,
  "metadata": {
    "colab": {
      "provenance": []
    },
    "kernelspec": {
      "name": "python3",
      "display_name": "Python 3"
    },
    "language_info": {
      "name": "python"
    }
  },
  "cells": [
    {
      "cell_type": "markdown",
      "source": [
        "1.Discuss string slicing and provide examples."
      ],
      "metadata": {
        "id": "xQtr96FYtIU0"
      }
    },
    {
      "cell_type": "code",
      "execution_count": null,
      "metadata": {
        "colab": {
          "base_uri": "https://localhost:8080/"
        },
        "id": "2MeJYLHCtF5i",
        "outputId": "885bacee-561b-4185-9906-e6a9c0309da4"
      },
      "outputs": [
        {
          "output_type": "stream",
          "name": "stdout",
          "text": [
            "Hello\n",
            "HloWr\n",
            "Hello\n",
            "World\n",
            "dlroW olleH\n"
          ]
        }
      ],
      "source": [
        "# String slicing allows you to extract a portion of a string.\n",
        "# It uses the following syntax: string[start:end:step]\n",
        "\n",
        "# Example 1: Basic slicing\n",
        "text = \"Hello World\"\n",
        "print(text[0:5])  # Output: Hello\n",
        "# This extracts characters from index 0 up to (but not including) index 5.\n",
        "\n",
        "# Example 2: Slicing with a step\n",
        "print(text[0:10:2])  # Output: HloWr\n",
        "# This extracts every second character from index 0 up to (but not including) index 10.\n",
        "\n",
        "# Example 3: Omitting start or end\n",
        "print(text[:5])  # Output: Hello\n",
        "# This extracts characters from the beginning up to (but not including) index 5.\n",
        "print(text[6:])  # Output: World\n",
        "# This extracts characters from index 6 to the end of the string.\n",
        "\n",
        "# Example 4: Reverse slicing\n",
        "print(text[::-1])  # Output: dlroW olleH\n",
        "# This reverses the string.\n"
      ]
    },
    {
      "cell_type": "markdown",
      "source": [
        "2.Explain the key features of lists in python."
      ],
      "metadata": {
        "id": "BXroo5OVtf94"
      }
    },
    {
      "cell_type": "code",
      "source": [
        "# Lists are ordered collections of items.\n",
        "# They can contain different data types (integers, strings, floats, etc.) within the same list.\n",
        "# Lists are mutable, meaning you can change their contents after creation.\n",
        "\n",
        "# Key features:\n",
        "\n",
        "# 1. Ordered: Items in a list maintain their order of insertion.\n",
        "# 2. Mutable: You can add, remove, or modify elements within a list.\n",
        "# 3. Dynamic: Lists can grow or shrink as needed.\n",
        "# 4. Versatile: Lists can store various data types, even other lists (nested lists).\n",
        "# 5. Indexing: Elements in a list are accessed using their index (starting from 0).\n",
        "# 6. Slicing: You can extract a portion of a list using slicing.\n",
        "# 7. Methods: Lists have built-in methods for common operations (append, insert, remove, etc.).\n"
      ],
      "metadata": {
        "id": "OpOXIiaNtruX"
      },
      "execution_count": null,
      "outputs": []
    },
    {
      "cell_type": "markdown",
      "source": [
        "3.Describe how to access, modify, and delete elements in a list with examples."
      ],
      "metadata": {
        "id": "zBAkWwoyttJe"
      }
    },
    {
      "cell_type": "code",
      "source": [
        "# Accessing elements\n",
        "my_list = [10, 20, 30, 40, 50]\n",
        "print(my_list[0])  # Access the first element (output: 10)\n",
        "print(my_list[2])  # Access the third element (output: 30)\n",
        "print(my_list[-1])  # Access the last element (output: 50)\n",
        "\n",
        "\n",
        "# Modifying elements\n",
        "my_list[1] = 25  # Change the second element to 25\n",
        "print(my_list)  # Output: [10, 25, 30, 40, 50]\n",
        "\n",
        "\n",
        "# Deleting elements\n",
        "del my_list[3]  # Delete the fourth element\n",
        "print(my_list)  # Output: [10, 25, 30, 50]\n"
      ],
      "metadata": {
        "colab": {
          "base_uri": "https://localhost:8080/"
        },
        "id": "0qpmKUhwt90X",
        "outputId": "818e3d5b-b36c-4ab0-bd1a-d1b08fde852a"
      },
      "execution_count": null,
      "outputs": [
        {
          "output_type": "stream",
          "name": "stdout",
          "text": [
            "10\n",
            "30\n",
            "50\n",
            "[10, 25, 30, 40, 50]\n",
            "[10, 25, 30, 50]\n"
          ]
        }
      ]
    },
    {
      "cell_type": "markdown",
      "source": [
        "4.Compare and contrast tuples and lists with examples."
      ],
      "metadata": {
        "id": "RXTtpcYWuAD_"
      }
    },
    {
      "cell_type": "code",
      "source": [
        "# Tuples are similar to lists but are immutable, meaning their elements cannot be changed after creation.\n",
        "# They are often used for data that should not be modified.\n",
        "\n",
        "# Example:\n",
        "my_tuple = (1, 2, 3)\n",
        "print(my_tuple)  # Output: (1, 2, 3)\n",
        "\n",
        "# Trying to modify a tuple will result in an error:\n",
        "# my_tuple[0] = 10  # This will cause an error\n",
        "\n",
        "\n",
        "# Key differences:\n",
        "\n",
        "# Mutability: Lists are mutable (changeable), while tuples are immutable (unchangeable).\n",
        "# Use cases: Lists are suitable for dynamic data, while tuples are better for representing fixed data.\n",
        "# Performance: Tuples are slightly more efficient in terms of memory usage and performance due to their immutability.\n",
        "\n",
        "# Example:\n",
        "my_list = [1, 2, 3]\n",
        "my_tuple = (1, 2, 3)\n",
        "\n",
        "# Accessing elements is the same for both:\n",
        "print(my_list[0])  # Output: 1\n",
        "print(my_tuple[0])  # Output: 1\n",
        "\n",
        "# Modifying elements:\n",
        "my_list[0] = 10  # Valid for lists\n",
        "print(my_list)  # Output: [10, 2, 3]\n",
        "\n",
        "# my_tuple[0] = 10  # Invalid for tuples (will cause an error)"
      ],
      "metadata": {
        "colab": {
          "base_uri": "https://localhost:8080/"
        },
        "id": "a89WnvrQyY4K",
        "outputId": "10ac0d47-5a0d-4277-9fef-1a1e38cb14d2"
      },
      "execution_count": null,
      "outputs": [
        {
          "output_type": "stream",
          "name": "stdout",
          "text": [
            "(1, 2, 3)\n",
            "1\n",
            "1\n",
            "[10, 2, 3]\n"
          ]
        }
      ]
    },
    {
      "cell_type": "markdown",
      "source": [
        "5.Describe the key features of sets and provide examples of their use"
      ],
      "metadata": {
        "id": "_sSSJCL_uo7c"
      }
    },
    {
      "cell_type": "code",
      "source": [
        "# Sets are unordered collections of unique elements.\n",
        "# They are useful for tasks involving membership testing, eliminating duplicates, and performing set operations.\n",
        "\n",
        "# Key features:\n",
        "\n",
        "# 1. Unordered: Elements in a set do not have a specific order.\n",
        "# 2. Unique: Sets do not allow duplicate elements.\n",
        "# 3. Mutable: You can add or remove elements from a set.\n",
        "# 4. Membership testing: Efficiently check if an element exists in a set.\n",
        "# 5. Set operations: Support operations like union, intersection, difference, etc.\n",
        "\n",
        "# Example 1: Creating a set\n",
        "my_set = {1, 2, 3, 4, 4, 5}  # Duplicate elements are ignored\n",
        "print(my_set)  # Output: {1, 2, 3, 4, 5}\n",
        "\n",
        "\n",
        "# Example 2: Adding and removing elements\n",
        "my_set.add(6)\n",
        "print(my_set)  # Output: {1, 2, 3, 4, 5, 6}\n",
        "my_set.remove(3)\n",
        "print(my_set)  # Output: {1, 2, 4, 5, 6}\n",
        "\n",
        "\n",
        "# Example 3: Membership testing\n",
        "if 2 in my_set:\n",
        "  print(\"2 is in the set\")\n",
        "\n",
        "\n",
        "# Example 4: Set operations\n",
        "set1 = {1, 2, 3}\n",
        "set2 = {3, 4, 5}\n",
        "\n",
        "# Union\n",
        "print(set1 | set2)  # Output: {1, 2, 3, 4, 5}\n",
        "print(set1.union(set2))  # Output: {1, 2, 3, 4, 5}\n",
        "\n",
        "# Intersection\n",
        "print(set1 & set2)  # Output: {3}\n",
        "print(set1.intersection(set2))  # Output: {3}\n",
        "\n",
        "# Difference\n",
        "print(set1 - set2)  # Output: {1, 2}\n",
        "print(set1.difference(set2))  # Output: {1, 2}\n"
      ],
      "metadata": {
        "colab": {
          "base_uri": "https://localhost:8080/"
        },
        "id": "HZjvYcZwvFB6",
        "outputId": "8e19676c-7da1-4d41-be84-cdef5ea82766"
      },
      "execution_count": null,
      "outputs": [
        {
          "output_type": "stream",
          "name": "stdout",
          "text": [
            "{1, 2, 3, 4, 5}\n",
            "{1, 2, 3, 4, 5, 6}\n",
            "{1, 2, 4, 5, 6}\n",
            "2 is in the set\n",
            "{1, 2, 3, 4, 5}\n",
            "{1, 2, 3, 4, 5}\n",
            "{3}\n",
            "{3}\n",
            "{1, 2}\n",
            "{1, 2}\n"
          ]
        }
      ]
    },
    {
      "cell_type": "markdown",
      "source": [
        "6.Describe the use cases of tuples and sets in python programming."
      ],
      "metadata": {
        "id": "xm_2zNYcuUXS"
      }
    },
    {
      "cell_type": "code",
      "source": [
        "# Tuples:\n",
        "# - Representing fixed data: When you have data that should not be modified after creation, tuples are a good choice.\n",
        "#   For example, coordinates in a game, database records, or configuration settings.\n",
        "# - Returning multiple values from a function: Tuples allow you to return multiple values from a function as a single unit.\n",
        "# - Data integrity: Since tuples are immutable, they help maintain data integrity by preventing accidental modifications.\n",
        "\n",
        "\n",
        "# Sets:\n",
        "# - Removing duplicates: Sets automatically eliminate duplicate elements, making them useful for tasks like finding unique values in a list.\n",
        "# - Membership testing: Efficiently check if an element exists within a set.\n",
        "# - Set operations: Perform operations like union, intersection, and difference on sets to analyze data.\n",
        "# - Data analysis: Useful for tasks like finding common elements between datasets or identifying unique elements.\n"
      ],
      "metadata": {
        "id": "qEOGP2L6uhut"
      },
      "execution_count": null,
      "outputs": []
    },
    {
      "cell_type": "markdown",
      "source": [
        "7.Describe how to add, modify and delete items in a dictionary with examples."
      ],
      "metadata": {
        "id": "K5kqqRasuiO3"
      }
    },
    {
      "cell_type": "code",
      "source": [
        "# Creating a dictionary\n",
        "my_dict = {\"name\": \"Alice\", \"age\": 30, \"city\": \"New York\"}\n",
        "\n",
        "# Adding a new item\n",
        "my_dict[\"occupation\"] = \"Engineer\"\n",
        "print(my_dict)  # Output: {'name': 'Alice', 'age': 30, 'city': 'New York', 'occupation': 'Engineer'}\n",
        "\n",
        "# Modifying an existing item\n",
        "my_dict[\"age\"] = 31\n",
        "print(my_dict)  # Output: {'name': 'Alice', 'age': 31, 'city': 'New York', 'occupation': 'Engineer'}\n",
        "\n",
        "# Deleting an item\n",
        "del my_dict[\"city\"]\n",
        "print(my_dict)  # Output: {'name': 'Alice', 'age': 31, 'occupation': 'Engineer'}\n"
      ],
      "metadata": {
        "colab": {
          "base_uri": "https://localhost:8080/"
        },
        "id": "s2NMOsYkvbXl",
        "outputId": "43fdf799-80ec-406c-eced-5334bc5348f4"
      },
      "execution_count": null,
      "outputs": [
        {
          "output_type": "stream",
          "name": "stdout",
          "text": [
            "{'name': 'Alice', 'age': 30, 'city': 'New York', 'occupation': 'Engineer'}\n",
            "{'name': 'Alice', 'age': 31, 'city': 'New York', 'occupation': 'Engineer'}\n",
            "{'name': 'Alice', 'age': 31, 'occupation': 'Engineer'}\n"
          ]
        }
      ]
    },
    {
      "cell_type": "markdown",
      "source": [
        "8.Discuss the importance of dictionary keys being immutable and provide examples."
      ],
      "metadata": {
        "id": "mg0QdtSOvc8U"
      }
    },
    {
      "cell_type": "code",
      "source": [
        "# Dictionary keys must be immutable. This is because dictionaries use hash tables for efficient lookup, and hash tables rely on the key's hash value to store and retrieve data.\n",
        "# If keys were mutable, their hash values could change, leading to inconsistencies and errors in the dictionary.\n",
        "\n",
        "# Immutable data types like strings, numbers, and tuples can be used as keys because their hash values remain constant.\n",
        "\n",
        "# Example of a valid dictionary:\n",
        "my_dict = {\n",
        "    \"name\": \"Alice\",\n",
        "    123: \"ID number\",\n",
        "    (1, 2): \"Coordinates\"\n",
        "}\n",
        "\n",
        "# Example of an invalid dictionary (using a list as a key):\n",
        "# my_dict = {\n",
        "#     [1, 2]: \"Invalid key\"\n",
        "# }\n",
        "# This will result in an error because lists are mutable.\n"
      ],
      "metadata": {
        "id": "1NEccEhzvpjU"
      },
      "execution_count": null,
      "outputs": []
    },
    {
      "cell_type": "code",
      "source": [
        "# prompt: Discuss the importance of dictionary keys being immutable\n",
        "\n",
        "# Dictionary keys must be immutable. This is because dictionaries use hash tables for efficient lookup, and hash tables rely on the key's hash value to store and retrieve data.\n",
        "# If keys were mutable, their hash values could change, leading to inconsistencies and errors in the dictionary.\n",
        "\n",
        "# Immutable data types like strings, numbers, and tuples can be used as keys because their hash values remain constant.\n",
        "\n",
        "# Example of a valid dictionary:\n",
        "my_dict = {\n",
        "    \"name\": \"Alice\",\n",
        "    123: \"ID number\",\n",
        "    (1, 2): \"Coordinates\"\n",
        "}\n",
        "\n",
        "# Example of an invalid dictionary (using a list as a key):\n",
        "# my_dict = {\n",
        "#     [1, 2]: \"Invalid key\"\n",
        "# }\n",
        "# This will result in an error because lists are mutable.\n"
      ],
      "metadata": {
        "id": "0QrIilVh0ksh"
      },
      "execution_count": null,
      "outputs": []
    }
  ]
}